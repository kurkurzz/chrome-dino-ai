{
 "cells": [
  {
   "cell_type": "code",
   "execution_count": 212,
   "id": "0f11af2e",
   "metadata": {},
   "outputs": [],
   "source": [
    "import shutil\n",
    "\n",
    "import pandas as pd\n",
    "from fastai.vision.all import *\n",
    "from sklearn.model_selection import train_test_split\n",
    "import cv2\n",
    "import seaborn as sns"
   ]
  },
  {
   "cell_type": "markdown",
   "id": "150e2a8c",
   "metadata": {},
   "source": [
    "## Split data "
   ]
  },
  {
   "cell_type": "code",
   "execution_count": 140,
   "id": "ceccc655",
   "metadata": {},
   "outputs": [],
   "source": [
    "dataset_df = pd.DataFrame()"
   ]
  },
  {
   "cell_type": "code",
   "execution_count": 141,
   "id": "de829916",
   "metadata": {},
   "outputs": [],
   "source": [
    "for filename in os.listdir('dataset_v2/up'):\n",
    "    dataset_df = pd.concat([dataset_df, pd.DataFrame([{'filename': filename, 'label': 'up'}])], ignore_index=True)\n",
    "    \n",
    "for filename in os.listdir('dataset_v2/run'):\n",
    "    dataset_df = pd.concat([dataset_df, pd.DataFrame([{'filename': filename, 'label': 'run'}])], ignore_index=True) "
   ]
  },
  {
   "cell_type": "code",
   "execution_count": 142,
   "id": "dd9d436e",
   "metadata": {},
   "outputs": [
    {
     "data": {
      "text/html": [
       "<div>\n",
       "<style scoped>\n",
       "    .dataframe tbody tr th:only-of-type {\n",
       "        vertical-align: middle;\n",
       "    }\n",
       "\n",
       "    .dataframe tbody tr th {\n",
       "        vertical-align: top;\n",
       "    }\n",
       "\n",
       "    .dataframe thead th {\n",
       "        text-align: right;\n",
       "    }\n",
       "</style>\n",
       "<table border=\"1\" class=\"dataframe\">\n",
       "  <thead>\n",
       "    <tr style=\"text-align: right;\">\n",
       "      <th></th>\n",
       "      <th>filename</th>\n",
       "      <th>label</th>\n",
       "    </tr>\n",
       "  </thead>\n",
       "  <tbody>\n",
       "    <tr>\n",
       "      <th>0</th>\n",
       "      <td>04-30-2022-23-18-29-803645.png</td>\n",
       "      <td>up</td>\n",
       "    </tr>\n",
       "    <tr>\n",
       "      <th>1</th>\n",
       "      <td>04-30-2022-23-18-31-118991.png</td>\n",
       "      <td>up</td>\n",
       "    </tr>\n",
       "    <tr>\n",
       "      <th>2</th>\n",
       "      <td>04-30-2022-23-18-32-400945.png</td>\n",
       "      <td>up</td>\n",
       "    </tr>\n",
       "    <tr>\n",
       "      <th>3</th>\n",
       "      <td>04-30-2022-23-18-33-705966.png</td>\n",
       "      <td>up</td>\n",
       "    </tr>\n",
       "    <tr>\n",
       "      <th>4</th>\n",
       "      <td>04-30-2022-23-18-34-972686.png</td>\n",
       "      <td>up</td>\n",
       "    </tr>\n",
       "    <tr>\n",
       "      <th>...</th>\n",
       "      <td>...</td>\n",
       "      <td>...</td>\n",
       "    </tr>\n",
       "    <tr>\n",
       "      <th>2035</th>\n",
       "      <td>04-30-2022-23-33-22-216411.png</td>\n",
       "      <td>run</td>\n",
       "    </tr>\n",
       "    <tr>\n",
       "      <th>2036</th>\n",
       "      <td>04-30-2022-23-33-22-309455.png</td>\n",
       "      <td>run</td>\n",
       "    </tr>\n",
       "    <tr>\n",
       "      <th>2037</th>\n",
       "      <td>04-30-2022-23-33-22-325456.png</td>\n",
       "      <td>run</td>\n",
       "    </tr>\n",
       "    <tr>\n",
       "      <th>2038</th>\n",
       "      <td>04-30-2022-23-33-22-341282.png</td>\n",
       "      <td>run</td>\n",
       "    </tr>\n",
       "    <tr>\n",
       "      <th>2039</th>\n",
       "      <td>04-30-2022-23-33-22-357292.png</td>\n",
       "      <td>run</td>\n",
       "    </tr>\n",
       "  </tbody>\n",
       "</table>\n",
       "<p>2040 rows × 2 columns</p>\n",
       "</div>"
      ],
      "text/plain": [
       "                            filename label\n",
       "0     04-30-2022-23-18-29-803645.png    up\n",
       "1     04-30-2022-23-18-31-118991.png    up\n",
       "2     04-30-2022-23-18-32-400945.png    up\n",
       "3     04-30-2022-23-18-33-705966.png    up\n",
       "4     04-30-2022-23-18-34-972686.png    up\n",
       "...                              ...   ...\n",
       "2035  04-30-2022-23-33-22-216411.png   run\n",
       "2036  04-30-2022-23-33-22-309455.png   run\n",
       "2037  04-30-2022-23-33-22-325456.png   run\n",
       "2038  04-30-2022-23-33-22-341282.png   run\n",
       "2039  04-30-2022-23-33-22-357292.png   run\n",
       "\n",
       "[2040 rows x 2 columns]"
      ]
     },
     "execution_count": 142,
     "metadata": {},
     "output_type": "execute_result"
    }
   ],
   "source": [
    "dataset_df"
   ]
  },
  {
   "cell_type": "code",
   "execution_count": 145,
   "id": "491968ba",
   "metadata": {},
   "outputs": [],
   "source": [
    "train, test = train_test_split(dataset_df, test_size=0.20, random_state=14)"
   ]
  },
  {
   "cell_type": "code",
   "execution_count": 146,
   "id": "d5f81625",
   "metadata": {},
   "outputs": [
    {
     "data": {
      "text/plain": [
       "label\n",
       "run    1229\n",
       "up      403\n",
       "dtype: int64"
      ]
     },
     "execution_count": 146,
     "metadata": {},
     "output_type": "execute_result"
    }
   ],
   "source": [
    "train.groupby('label').size()"
   ]
  },
  {
   "cell_type": "code",
   "execution_count": 147,
   "id": "a3ba2963",
   "metadata": {},
   "outputs": [
    {
     "data": {
      "text/plain": [
       "label\n",
       "run    307\n",
       "up     101\n",
       "dtype: int64"
      ]
     },
     "execution_count": 147,
     "metadata": {},
     "output_type": "execute_result"
    }
   ],
   "source": [
    "test.groupby('label').size()"
   ]
  },
  {
   "cell_type": "code",
   "execution_count": 149,
   "id": "4fb49390",
   "metadata": {},
   "outputs": [],
   "source": [
    "def copy_image_into_folder(is_train, label, file_name):\n",
    "    target = 'test'\n",
    "    if is_train:\n",
    "        target = 'train'\n",
    "        \n",
    "    original_path = 'dataset_v2\\\\'\n",
    "    shutil.copyfile(os.path.join(os.getcwd(), f'{original_path}{label}\\\\{filename}'), \n",
    "                    os.path.join(os.getcwd(), f'.\\\\{target}\\\\{label}\\\\{filename}'))"
   ]
  },
  {
   "cell_type": "code",
   "execution_count": 150,
   "id": "7e648b55",
   "metadata": {},
   "outputs": [
    {
     "data": {
      "text/plain": [
       "1779    None\n",
       "545     None\n",
       "620     None\n",
       "1204    None\n",
       "933     None\n",
       "        ... \n",
       "327     None\n",
       "406     None\n",
       "1292    None\n",
       "1368    None\n",
       "619     None\n",
       "Length: 1632, dtype: object"
      ]
     },
     "execution_count": 150,
     "metadata": {},
     "output_type": "execute_result"
    }
   ],
   "source": [
    "train.apply(lambda x: copy_image_into_folder(True, x['label'], x['filename']), axis=1)"
   ]
  },
  {
   "cell_type": "code",
   "execution_count": 151,
   "id": "27d4cb4e",
   "metadata": {},
   "outputs": [
    {
     "data": {
      "text/plain": [
       "1820    None\n",
       "1355    None\n",
       "1921    None\n",
       "1025    None\n",
       "951     None\n",
       "        ... \n",
       "212     None\n",
       "16      None\n",
       "496     None\n",
       "75      None\n",
       "1327    None\n",
       "Length: 408, dtype: object"
      ]
     },
     "execution_count": 151,
     "metadata": {},
     "output_type": "execute_result"
    }
   ],
   "source": [
    "test.apply(lambda x: copy_image_into_folder(False, x['label'], x['filename']), axis=1)"
   ]
  },
  {
   "cell_type": "markdown",
   "id": "7775dedb",
   "metadata": {},
   "source": [
    "## Training Model"
   ]
  },
  {
   "cell_type": "code",
   "execution_count": 152,
   "id": "d88a54ce",
   "metadata": {},
   "outputs": [],
   "source": [
    "path = 'train'\n",
    "fnames = get_image_files(path)\n",
    "def label_func(x): return x.parent.name"
   ]
  },
  {
   "cell_type": "code",
   "execution_count": 153,
   "id": "0c031939",
   "metadata": {},
   "outputs": [
    {
     "name": "stdout",
     "output_type": "stream",
     "text": [
      "Due to IPython and Windows limitation, python multiprocessing isn't available now.\n",
      "So `number_workers` is changed to 0 to avoid getting stuck\n"
     ]
    }
   ],
   "source": [
    "dls = ImageDataLoaders.from_path_func(path, fnames, label_func, number_workers=0)"
   ]
  },
  {
   "cell_type": "code",
   "execution_count": 154,
   "id": "956a96ee",
   "metadata": {},
   "outputs": [
    {
     "data": {
      "text/plain": [
       "6"
      ]
     },
     "execution_count": 154,
     "metadata": {},
     "output_type": "execute_result"
    }
   ],
   "source": [
    "len(dls[1])"
   ]
  },
  {
   "cell_type": "code",
   "execution_count": 155,
   "id": "be7aaf9f",
   "metadata": {},
   "outputs": [
    {
     "data": {
      "image/png": "[encoded data removed]",
      "text/plain": [
       "<Figure size 432x432 with 4 Axes>"
      ]
     },
     "metadata": {
      "needs_background": "light"
     },
     "output_type": "display_data"
    }
   ],
   "source": [
    "dls.valid.show_batch(max_n=4, nrows=2)"
   ]
  },
  {
   "cell_type": "markdown",
   "id": "81fde718",
   "metadata": {},
   "source": [
    "last image is caused by game background transition"
   ]
  },
  {
   "cell_type": "code",
   "execution_count": 156,
   "id": "e1489fe4",
   "metadata": {},
   "outputs": [],
   "source": [
    "learn = cnn_learner(dls, resnet18, metrics=[error_rate, accuracy])"
   ]
  },
  {
   "cell_type": "code",
   "execution_count": 6,
   "id": "0bfabd90",
   "metadata": {},
   "outputs": [
    {
     "data": {
      "text/html": [
       "\n",
       "<style>\n",
       "    /* Turns off some styling */\n",
       "    progress {\n",
       "        /* gets rid of default border in Firefox and Opera. */\n",
       "        border: none;\n",
       "        /* Needs to be in here for Safari polyfill so background images work as expected. */\n",
       "        background-size: auto;\n",
       "    }\n",
       "    .progress-bar-interrupted, .progress-bar-interrupted::-webkit-progress-bar {\n",
       "        background: #F44336;\n",
       "    }\n",
       "</style>\n"
      ],
      "text/plain": [
       "<IPython.core.display.HTML object>"
      ]
     },
     "metadata": {},
     "output_type": "display_data"
    },
    {
     "data": {
      "text/html": [],
      "text/plain": [
       "<IPython.core.display.HTML object>"
      ]
     },
     "metadata": {},
     "output_type": "display_data"
    },
    {
     "data": {
      "image/png": "[encoded data removed]",
      "text/plain": [
       "<Figure size 432x288 with 1 Axes>"
      ]
     },
     "metadata": {
      "needs_background": "light"
     },
     "output_type": "display_data"
    }
   ],
   "source": [
    "lrs = learn.lr_find(suggest_funcs=(minimum, steep, valley, slide))"
   ]
  },
  {
   "cell_type": "code",
   "execution_count": 157,
   "id": "a19c2af3",
   "metadata": {},
   "outputs": [
    {
     "data": {
      "text/html": [
       "\n",
       "<style>\n",
       "    /* Turns off some styling */\n",
       "    progress {\n",
       "        /* gets rid of default border in Firefox and Opera. */\n",
       "        border: none;\n",
       "        /* Needs to be in here for Safari polyfill so background images work as expected. */\n",
       "        background-size: auto;\n",
       "    }\n",
       "    .progress-bar-interrupted, .progress-bar-interrupted::-webkit-progress-bar {\n",
       "        background: #F44336;\n",
       "    }\n",
       "</style>\n"
      ],
      "text/plain": [
       "<IPython.core.display.HTML object>"
      ]
     },
     "metadata": {},
     "output_type": "display_data"
    },
    {
     "data": {
      "text/html": [
       "<table border=\"1\" class=\"dataframe\">\n",
       "  <thead>\n",
       "    <tr style=\"text-align: left;\">\n",
       "      <th>epoch</th>\n",
       "      <th>train_loss</th>\n",
       "      <th>valid_loss</th>\n",
       "      <th>error_rate</th>\n",
       "      <th>accuracy</th>\n",
       "      <th>time</th>\n",
       "    </tr>\n",
       "  </thead>\n",
       "  <tbody>\n",
       "    <tr>\n",
       "      <td>0</td>\n",
       "      <td>0.535624</td>\n",
       "      <td>1.757589</td>\n",
       "      <td>0.438650</td>\n",
       "      <td>0.561350</td>\n",
       "      <td>01:20</td>\n",
       "    </tr>\n",
       "  </tbody>\n",
       "</table>"
      ],
      "text/plain": [
       "<IPython.core.display.HTML object>"
      ]
     },
     "metadata": {},
     "output_type": "display_data"
    },
    {
     "data": {
      "text/html": [
       "\n",
       "<style>\n",
       "    /* Turns off some styling */\n",
       "    progress {\n",
       "        /* gets rid of default border in Firefox and Opera. */\n",
       "        border: none;\n",
       "        /* Needs to be in here for Safari polyfill so background images work as expected. */\n",
       "        background-size: auto;\n",
       "    }\n",
       "    .progress-bar-interrupted, .progress-bar-interrupted::-webkit-progress-bar {\n",
       "        background: #F44336;\n",
       "    }\n",
       "</style>\n"
      ],
      "text/plain": [
       "<IPython.core.display.HTML object>"
      ]
     },
     "metadata": {},
     "output_type": "display_data"
    },
    {
     "data": {
      "text/html": [
       "<table border=\"1\" class=\"dataframe\">\n",
       "  <thead>\n",
       "    <tr style=\"text-align: left;\">\n",
       "      <th>epoch</th>\n",
       "      <th>train_loss</th>\n",
       "      <th>valid_loss</th>\n",
       "      <th>error_rate</th>\n",
       "      <th>accuracy</th>\n",
       "      <th>time</th>\n",
       "    </tr>\n",
       "  </thead>\n",
       "  <tbody>\n",
       "    <tr>\n",
       "      <td>0</td>\n",
       "      <td>0.125842</td>\n",
       "      <td>0.199349</td>\n",
       "      <td>0.021472</td>\n",
       "      <td>0.978528</td>\n",
       "      <td>01:39</td>\n",
       "    </tr>\n",
       "    <tr>\n",
       "      <td>1</td>\n",
       "      <td>0.094753</td>\n",
       "      <td>0.099564</td>\n",
       "      <td>0.018405</td>\n",
       "      <td>0.981595</td>\n",
       "      <td>01:39</td>\n",
       "    </tr>\n",
       "  </tbody>\n",
       "</table>"
      ],
      "text/plain": [
       "<IPython.core.display.HTML object>"
      ]
     },
     "metadata": {},
     "output_type": "display_data"
    },
    {
     "name": "stdout",
     "output_type": "stream",
     "text": [
      "CPU times: total: 27min 45s\n",
      "Wall time: 4min 39s\n"
     ]
    }
   ],
   "source": [
    "%%time\n",
    "learn.fine_tune(2, base_lr=10e-03)"
   ]
  },
  {
   "cell_type": "code",
   "execution_count": 158,
   "id": "cc30aeda",
   "metadata": {
    "scrolled": true
   },
   "outputs": [
    {
     "data": {
      "text/html": [
       "\n",
       "<style>\n",
       "    /* Turns off some styling */\n",
       "    progress {\n",
       "        /* gets rid of default border in Firefox and Opera. */\n",
       "        border: none;\n",
       "        /* Needs to be in here for Safari polyfill so background images work as expected. */\n",
       "        background-size: auto;\n",
       "    }\n",
       "    .progress-bar-interrupted, .progress-bar-interrupted::-webkit-progress-bar {\n",
       "        background: #F44336;\n",
       "    }\n",
       "</style>\n"
      ],
      "text/plain": [
       "<IPython.core.display.HTML object>"
      ]
     },
     "metadata": {},
     "output_type": "display_data"
    },
    {
     "data": {
      "text/html": [],
      "text/plain": [
       "<IPython.core.display.HTML object>"
      ]
     },
     "metadata": {},
     "output_type": "display_data"
    },
    {
     "data": {
      "text/html": [
       "\n",
       "<style>\n",
       "    /* Turns off some styling */\n",
       "    progress {\n",
       "        /* gets rid of default border in Firefox and Opera. */\n",
       "        border: none;\n",
       "        /* Needs to be in here for Safari polyfill so background images work as expected. */\n",
       "        background-size: auto;\n",
       "    }\n",
       "    .progress-bar-interrupted, .progress-bar-interrupted::-webkit-progress-bar {\n",
       "        background: #F44336;\n",
       "    }\n",
       "</style>\n"
      ],
      "text/plain": [
       "<IPython.core.display.HTML object>"
      ]
     },
     "metadata": {},
     "output_type": "display_data"
    },
    {
     "data": {
      "text/html": [],
      "text/plain": [
       "<IPython.core.display.HTML object>"
      ]
     },
     "metadata": {},
     "output_type": "display_data"
    },
    {
     "data": {
      "image/png": "[encoded data removed]",
      "text/plain": [
       "<Figure size 432x288 with 1 Axes>"
      ]
     },
     "metadata": {
      "needs_background": "light"
     },
     "output_type": "display_data"
    }
   ],
   "source": [
    "interp = ClassificationInterpretation.from_learner(learn)\n",
    "interp.plot_confusion_matrix()"
   ]
  },
  {
   "cell_type": "code",
   "execution_count": 159,
   "id": "d9dc23f8",
   "metadata": {},
   "outputs": [
    {
     "data": {
      "text/html": [
       "\n",
       "<style>\n",
       "    /* Turns off some styling */\n",
       "    progress {\n",
       "        /* gets rid of default border in Firefox and Opera. */\n",
       "        border: none;\n",
       "        /* Needs to be in here for Safari polyfill so background images work as expected. */\n",
       "        background-size: auto;\n",
       "    }\n",
       "    .progress-bar-interrupted, .progress-bar-interrupted::-webkit-progress-bar {\n",
       "        background: #F44336;\n",
       "    }\n",
       "</style>\n"
      ],
      "text/plain": [
       "<IPython.core.display.HTML object>"
      ]
     },
     "metadata": {},
     "output_type": "display_data"
    },
    {
     "data": {
      "text/html": [],
      "text/plain": [
       "<IPython.core.display.HTML object>"
      ]
     },
     "metadata": {},
     "output_type": "display_data"
    },
    {
     "name": "stdout",
     "output_type": "stream",
     "text": [
      "              precision    recall  f1-score   support\n",
      "\n",
      "         run       1.00      0.98      0.99       250\n",
      "          up       0.94      0.99      0.96        76\n",
      "\n",
      "    accuracy                           0.98       326\n",
      "   macro avg       0.97      0.98      0.97       326\n",
      "weighted avg       0.98      0.98      0.98       326\n",
      "\n"
     ]
    }
   ],
   "source": [
    "interp.print_classification_report()"
   ]
  },
  {
   "cell_type": "code",
   "execution_count": 160,
   "id": "08289d12",
   "metadata": {},
   "outputs": [],
   "source": [
    "learn.export(os.path.abspath('models/v7.pkl'))"
   ]
  },
  {
   "cell_type": "markdown",
   "id": "aba52044",
   "metadata": {},
   "source": [
    "## Test Model"
   ]
  },
  {
   "cell_type": "code",
   "execution_count": 185,
   "id": "95f18670",
   "metadata": {},
   "outputs": [],
   "source": [
    "test_df = pd.DataFrame()"
   ]
  },
  {
   "cell_type": "code",
   "execution_count": 189,
   "id": "a9c84ae4",
   "metadata": {},
   "outputs": [],
   "source": [
    "for filename in os.listdir('test/up'):\n",
    "    test_df = pd.concat([test_df, pd.DataFrame([{'filename': filename, 'label': 'up'}])], ignore_index=True)\n",
    "    \n",
    "for filename in os.listdir('test/run'):\n",
    "    test_df = pd.concat([test_df, pd.DataFrame([{'filename': filename, 'label': 'run'}])], ignore_index=True)"
   ]
  },
  {
   "cell_type": "code",
   "execution_count": 190,
   "id": "2ca9ac9d",
   "metadata": {},
   "outputs": [],
   "source": [
    "def predict(filename, label):\n",
    "    image = cv2.imread(f'test/{label}/{filename}')\n",
    "    return learn.predict(image)[0]"
   ]
  },
  {
   "cell_type": "code",
   "execution_count": 194,
   "id": "342d222a",
   "metadata": {},
   "outputs": [],
   "source": [
    "%%capture\n",
    "test_df['predict'] = test_df.apply(lambda x: predict(x['filename'], x['label']), axis=1);"
   ]
  },
  {
   "cell_type": "code",
   "execution_count": 197,
   "id": "92d0018b",
   "metadata": {},
   "outputs": [],
   "source": [
    "test_df['correct'] = test_df.apply(lambda x: 1 if x['label']==x['predict'] else 0, axis=1)"
   ]
  },
  {
   "cell_type": "code",
   "execution_count": 201,
   "id": "0f36ac47",
   "metadata": {},
   "outputs": [],
   "source": [
    "accuracy = test_df['correct'].sum()/len(test_df)*100"
   ]
  },
  {
   "cell_type": "code",
   "execution_count": 205,
   "id": "7950c7c2",
   "metadata": {},
   "outputs": [
    {
     "name": "stdout",
     "output_type": "stream",
     "text": [
      "Accuracy of test set is: 98.77450980392157\n"
     ]
    }
   ],
   "source": [
    "print(f'Accuracy of test set is: {accuracy}')"
   ]
  },
  {
   "cell_type": "code",
   "execution_count": 209,
   "id": "46410f59",
   "metadata": {},
   "outputs": [],
   "source": [
    "true_positive = 0\n",
    "false_positive = 0\n",
    "true_negative = 0\n",
    "false_negative = 0\n",
    "\n",
    "for index, row in test_df.iterrows():\n",
    "    if row['label'] == 'up':\n",
    "        if row['predict'] == 'up':\n",
    "            true_positive += 1\n",
    "        else:\n",
    "            false_negative += 1\n",
    "    else:\n",
    "        if row['predict'] == 'up':\n",
    "            false_positive += 1\n",
    "        else:\n",
    "            true_negative += 1"
   ]
  },
  {
   "cell_type": "code",
   "execution_count": 224,
   "id": "e2535d6e",
   "metadata": {},
   "outputs": [
    {
     "data": {
      "text/plain": [
       "<AxesSubplot:>"
      ]
     },
     "execution_count": 224,
     "metadata": {},
     "output_type": "execute_result"
    },
    {
     "data": {
      "image/png": "[encoded data removed]",
      "text/plain": [
       "<Figure size 432x288 with 2 Axes>"
      ]
     },
     "metadata": {
      "needs_background": "light"
     },
     "output_type": "display_data"
    }
   ],
   "source": [
    "sns.heatmap([[true_negative, false_negative], [false_positive, true_positive]], cmap='Blues', annot=True, fmt='g')"
   ]
  },
  {
   "cell_type": "code",
   "execution_count": null,
   "id": "cdd690fb",
   "metadata": {},
   "outputs": [],
   "source": []
  }
 ],
 "metadata": {
  "kernelspec": {
   "display_name": "Python 3 (ipykernel)",
   "language": "python",
   "name": "python3"
  },
  "language_info": {
   "codemirror_mode": {
    "name": "ipython",
    "version": 3
   },
   "file_extension": ".py",
   "mimetype": "text/x-python",
   "name": "python",
   "nbconvert_exporter": "python",
   "pygments_lexer": "ipython3",
   "version": "3.9.12"
  }
 },
 "nbformat": 4,
 "nbformat_minor": 5
}
