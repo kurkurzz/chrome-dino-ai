{
 "cells": [
  {
   "cell_type": "code",
   "execution_count": 1,
   "id": "aaed6c4c",
   "metadata": {},
   "outputs": [],
   "source": [
    "import warnings\n",
    "warnings.filterwarnings('ignore')"
   ]
  },
  {
   "cell_type": "code",
   "execution_count": 2,
   "id": "6d7bc7e9",
   "metadata": {},
   "outputs": [],
   "source": [
    "import time\n",
    "from datetime import datetime\n",
    "\n",
    "import pyautogui\n",
    "import pygetwindow as gw\n",
    "import keyboard\n",
    "import pandas as pd\n",
    "import numpy as np\n",
    "import cv2\n",
    "import matplotlib.pyplot as plt\n",
    "\n",
    "from selenium import webdriver\n",
    "from selenium.webdriver.chrome.options import Options"
   ]
  },
  {
   "cell_type": "code",
   "execution_count": 3,
   "id": "91691ac7",
   "metadata": {},
   "outputs": [
    {
     "name": "stdout",
     "output_type": "stream",
     "text": [
      "Launching Dino.\n"
     ]
    }
   ],
   "source": [
    "# launch chrome dino\n",
    "try:\n",
    "    options = Options()\n",
    "    options.add_argument(\"--window-size=800,800\")\n",
    "    driver = webdriver.Chrome(executable_path='./chromedriver', options=options)\n",
    "    driver.get('chrome://dino')\n",
    "except:\n",
    "    pass\n",
    "finally:\n",
    "    print('Launching Dino.')"
   ]
  },
  {
   "cell_type": "code",
   "execution_count": 4,
   "id": "216ac605",
   "metadata": {},
   "outputs": [],
   "source": [
    "# get screen size\n",
    "screen_size = (pyautogui.size().width, pyautogui.size().height)"
   ]
  },
  {
   "cell_type": "code",
   "execution_count": 5,
   "id": "4d9ea62f",
   "metadata": {},
   "outputs": [],
   "source": [
    "# locate chrome dino window\n",
    "dino_window = gw.getWindowsWithTitle('chrome://dino/ - Google Chrome')[0]"
   ]
  },
  {
   "cell_type": "code",
   "execution_count": 6,
   "id": "51d7a534",
   "metadata": {},
   "outputs": [],
   "source": [
    "# reposition and resize window (to enable ss by pyautogui)\n",
    "window_size = 800\n",
    "dino_window.moveTo(screen_size[0]-window_size, 0)\n",
    "dino_window.resizeTo(window_size, window_size)"
   ]
  },
  {
   "cell_type": "code",
   "execution_count": 7,
   "id": "83e680a9",
   "metadata": {},
   "outputs": [],
   "source": [
    "def screenshot_frame():\n",
    "    # screenshot\n",
    "    frame = pyautogui.screenshot(region=(screen_size[0]-window_size+7, 125, 350, 350))\n",
    "\n",
    "    # change to grayscale\n",
    "    frame = cv2.cvtColor(np.array(frame), cv2.COLOR_RGB2GRAY)\n",
    "    \n",
    "    # resize to compatible with resnet model\n",
    "    frame = cv2.resize(frame, (224,224))\n",
    "    \n",
    "    # convert to black n white to count white n black pixel\n",
    "    # for checking black or white background\n",
    "#     thresh = 107\n",
    "#     sample_frame = cv2.threshold(frame, thresh, 255, cv2.THRESH_BINARY)[1]\n",
    "#     pixel_count = np.unique(sample_frame, return_counts=True)[1]\n",
    "    \n",
    "#     if pixel_count[1] > pixel_count[0]:\n",
    "#         thresh = 190\n",
    "#         # actually change to black n white\n",
    "#         frame = cv2.threshold(frame, thresh, 255, cv2.THRESH_BINARY)[1]\n",
    "#         frame = np.invert(frame)\n",
    "#     else:\n",
    "#         thresh = 110\n",
    "#         frame = cv2.threshold(frame, thresh, 255, cv2.THRESH_BINARY)[1]\n",
    "    \n",
    "    return frame"
   ]
  },
  {
   "cell_type": "code",
   "execution_count": 8,
   "id": "3818c18e",
   "metadata": {},
   "outputs": [
    {
     "data": {
      "text/plain": [
       "<matplotlib.image.AxesImage at 0x1d07a7d82e0>"
      ]
     },
     "execution_count": 8,
     "metadata": {},
     "output_type": "execute_result"
    },
    {
     "data": {
      "image/png": "[encoded data removed]",
      "text/plain": [
       "<Figure size 432x288 with 1 Axes>"
      ]
     },
     "metadata": {
      "needs_background": "light"
     },
     "output_type": "display_data"
    }
   ],
   "source": [
    "frame = screenshot_frame()\n",
    "plt.imshow(frame, cmap='gray')"
   ]
  },
  {
   "cell_type": "code",
   "execution_count": 27,
   "id": "2400d0d6",
   "metadata": {},
   "outputs": [],
   "source": [
    "df = pd.DataFrame(columns=['frame', 'keystroke', 'time_elapsed'])"
   ]
  },
  {
   "cell_type": "code",
   "execution_count": 28,
   "id": "2a4da183",
   "metadata": {},
   "outputs": [],
   "source": [
    "keyboard.wait('up')\n",
    "time.sleep(1)\n",
    "start = time.time()\n",
    "\n",
    "counter = 0\n",
    "while True: \n",
    "    frame = screenshot_frame()\n",
    "    end = time.time()\n",
    "    time_elapsed = end - start\n",
    "    \n",
    "    if not (keyboard.is_pressed('up') or keyboard.is_pressed('esc')):\n",
    "        pass\n",
    "        df = pd.concat([df, pd.DataFrame([{'frame': frame, 'keystroke': 'run', 'time_elapsed': time_elapsed}])], ignore_index=True)\n",
    "   \n",
    "    else:\n",
    "        key_pressed = keyboard.read_key()\n",
    "        if key_pressed == \"esc\":\n",
    "            break\n",
    "\n",
    "        elif key_pressed == 'up':\n",
    "            df = pd.concat([df, pd.DataFrame([{'frame': frame, 'keystroke': 'up', 'time_elapsed': time_elapsed}])], ignore_index=True)\n",
    "    counter += 1"
   ]
  },
  {
   "cell_type": "code",
   "execution_count": 29,
   "id": "b3ff77fe",
   "metadata": {},
   "outputs": [
    {
     "data": {
      "text/plain": [
       "run    10841\n",
       "up       390\n",
       "Name: keystroke, dtype: int64"
      ]
     },
     "execution_count": 29,
     "metadata": {},
     "output_type": "execute_result"
    }
   ],
   "source": [
    "df['keystroke'].value_counts()"
   ]
  },
  {
   "cell_type": "code",
   "execution_count": 15,
   "id": "6949eccf",
   "metadata": {},
   "outputs": [
    {
     "data": {
      "text/plain": [
       "0       0.028777\n",
       "1       0.052289\n",
       "2       0.080291\n",
       "3       0.108289\n",
       "4       0.135288\n",
       "          ...   \n",
       "1006    29.41658\n",
       "1007    29.44358\n",
       "1008    29.47058\n",
       "1009    29.49958\n",
       "1010    29.52658\n",
       "Name: time_elapsed, Length: 1011, dtype: object"
      ]
     },
     "execution_count": 15,
     "metadata": {},
     "output_type": "execute_result"
    }
   ],
   "source": [
    "df['time_elapsed']"
   ]
  },
  {
   "cell_type": "code",
   "execution_count": 30,
   "id": "36a1bf4e",
   "metadata": {},
   "outputs": [],
   "source": [
    "def export_images(frame, keystroke):  \n",
    "    folder_name = 'run'\n",
    "    if keystroke == 'up':\n",
    "        folder_name = 'up'\n",
    "    time.sleep(0.01)\n",
    "    return cv2.imwrite(f'dataset_v2/{folder_name}/{datetime.now().strftime(\"%m-%d-%Y-%H-%M-%S-%f\")}.png', frame)\n",
    "    "
   ]
  },
  {
   "cell_type": "code",
   "execution_count": 31,
   "id": "58bb0ae0",
   "metadata": {},
   "outputs": [
    {
     "data": {
      "text/plain": [
       "0        True\n",
       "1        True\n",
       "2        True\n",
       "3        True\n",
       "4        True\n",
       "         ... \n",
       "11226    True\n",
       "11227    True\n",
       "11228    True\n",
       "11229    True\n",
       "11230    True\n",
       "Length: 11231, dtype: bool"
      ]
     },
     "execution_count": 31,
     "metadata": {},
     "output_type": "execute_result"
    }
   ],
   "source": [
    "df.apply(lambda x: export_images(x['frame'], x['keystroke']), axis=1)"
   ]
  }
 ],
 "metadata": {
  "kernelspec": {
   "display_name": "Python 3 (ipykernel)",
   "language": "python",
   "name": "python3"
  },
  "language_info": {
   "codemirror_mode": {
    "name": "ipython",
    "version": 3
   },
   "file_extension": ".py",
   "mimetype": "text/x-python",
   "name": "python",
   "nbconvert_exporter": "python",
   "pygments_lexer": "ipython3",
   "version": "3.9.12"
  }
 },
 "nbformat": 4,
 "nbformat_minor": 5
}
