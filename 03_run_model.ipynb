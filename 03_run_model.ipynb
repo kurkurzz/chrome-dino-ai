{
 "cells": [
  {
   "cell_type": "code",
   "execution_count": 1,
   "id": "d2698624",
   "metadata": {},
   "outputs": [],
   "source": [
    "import warnings\n",
    "warnings.filterwarnings('ignore')"
   ]
  },
  {
   "cell_type": "code",
   "execution_count": 2,
   "id": "e2697614",
   "metadata": {},
   "outputs": [],
   "source": [
    "import time\n",
    "from datetime import datetime\n",
    "\n",
    "from fastai.vision.all import *\n",
    "import pyautogui\n",
    "import pygetwindow as gw\n",
    "import keyboard\n",
    "import numpy as np\n",
    "import cv2\n",
    "\n",
    "from selenium import webdriver\n",
    "from selenium.webdriver.chrome.options import Options"
   ]
  },
  {
   "cell_type": "code",
   "execution_count": 3,
   "id": "9d47fc85",
   "metadata": {},
   "outputs": [],
   "source": [
    "# need to declare globally cuz to override label_func\n",
    "path = 'dataset_v2'\n",
    "fnames = get_image_files(path)\n",
    "def label_func(x): return x.parent.name\n",
    "\n",
    "def load_model(path):    \n",
    "    learn = load_learner(os.path.abspath(path))\n",
    "    return learn"
   ]
  },
  {
   "cell_type": "code",
   "execution_count": 4,
   "id": "7f238cf2",
   "metadata": {},
   "outputs": [],
   "source": [
    "def launch_chrome_dino():\n",
    "    try:\n",
    "        options = Options()\n",
    "        options.add_argument(\"--window-size=800,800\")\n",
    "        driver = webdriver.Chrome(executable_path='./chromedriver', options=options)\n",
    "        driver.get('chrome://dino')\n",
    "    except Exception as e:\n",
    "#         print(e)\n",
    "        pass\n",
    "    finally:\n",
    "        print('Launching Dino.')\n",
    "        \n",
    "    screen_size = (pyautogui.size().width, pyautogui.size().height)\n",
    "    dino_window = gw.getWindowsWithTitle('chrome://dino/ - Google Chrome')[0]\n",
    "    \n",
    "    window_size = 800\n",
    "    dino_window.moveTo(screen_size[0]-window_size, 0)\n",
    "    dino_window.resizeTo(window_size, window_size)\n",
    "    \n",
    "    return driver, dino_window, screen_size, window_size"
   ]
  },
  {
   "cell_type": "code",
   "execution_count": 5,
   "id": "0f2b7921",
   "metadata": {},
   "outputs": [],
   "source": [
    "def screenshot_frame(screen_size, window_size):\n",
    "    # screenshot\n",
    "    frame = pyautogui.screenshot(region=(screen_size[0]-window_size+7, 125, 350, 350))\n",
    "\n",
    "    # change to grayscale\n",
    "    frame = cv2.cvtColor(np.array(frame), cv2.COLOR_RGB2GRAY)\n",
    "    \n",
    "    # resize to compatible with resnet model\n",
    "    frame = cv2.resize(frame, (224,224))\n",
    "    \n",
    "    # convert to black n white to count white n black pixel\n",
    "    # for checking black or white background\n",
    "    thresh = 107\n",
    "    sample_frame = cv2.threshold(frame, thresh, 255, cv2.THRESH_BINARY)[1]\n",
    "    pixel_count = np.unique(sample_frame, return_counts=True)[1]\n",
    "    \n",
    "    if pixel_count[1] > pixel_count[0]:\n",
    "        thresh = 190\n",
    "        # actually change to black n white\n",
    "        frame = cv2.threshold(frame, thresh, 255, cv2.THRESH_BINARY)[1]\n",
    "        frame = np.invert(frame)\n",
    "    else:\n",
    "        thresh = 110\n",
    "        frame = cv2.threshold(frame, thresh, 255, cv2.THRESH_BINARY)[1]\n",
    "    \n",
    "    return frame"
   ]
  },
  {
   "cell_type": "code",
   "execution_count": 6,
   "id": "7639e91e",
   "metadata": {},
   "outputs": [],
   "source": [
    "learn = load_model('models/v5.pkl')"
   ]
  },
  {
   "cell_type": "code",
   "execution_count": null,
   "id": "d810450d",
   "metadata": {},
   "outputs": [],
   "source": [
    "%%capture\n",
    "\n",
    "_, dino_window, screen_size, window_size = launch_chrome_dino()\n",
    "\n",
    "#start the game\n",
    "pyautogui.press('up')\n",
    "\n",
    "time.sleep(20)\n",
    "\n",
    "while True:\n",
    "    frame = screenshot_frame(screen_size, window_size)\n",
    "    hotkey = learn.predict(frame)[0]\n",
    "    \n",
    "    if hotkey == 'up':\n",
    "        pyautogui.press('up')\n",
    "    elif hotkey == 'down':\n",
    "        pyautogui.press('down')\n",
    "\n",
    "    if keyboard.is_pressed('esc'):\n",
    "        break"
   ]
  }
 ],
 "metadata": {
  "kernelspec": {
   "display_name": "Python 3 (ipykernel)",
   "language": "python",
   "name": "python3"
  },
  "language_info": {
   "codemirror_mode": {
    "name": "ipython",
    "version": 3
   },
   "file_extension": ".py",
   "mimetype": "text/x-python",
   "name": "python",
   "nbconvert_exporter": "python",
   "pygments_lexer": "ipython3",
   "version": "3.9.12"
  }
 },
 "nbformat": 4,
 "nbformat_minor": 5
}
